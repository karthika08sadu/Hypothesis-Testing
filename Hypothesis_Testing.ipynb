{
 "cells": [
  {
   "cell_type": "markdown",
   "id": "d47a83be-87fe-49a3-98bc-16cefbae3877",
   "metadata": {},
   "source": [
    "### 1. State the Hypotheses statement:\n",
    "* H0 :the operating cost for franchise in a week(W) is W= $1,000 + $5X (X=600 units)\n",
    "  , W=4000\n",
    "\n",
    "->mu=4000\n",
    "\n",
    "* H1  : the operating cost for franchise in a week(W) is W> $1,000 + $5X (X=600 units)\n",
    "   , W>4000\n",
    "\n",
    "->mu>4000\n",
    "\n"
   ]
  },
  {
   "cell_type": "markdown",
   "id": "081152ae-085f-4750-8da1-608c10471887",
   "metadata": {},
   "source": [
    "# HYPOTHESIS TESTING"
   ]
  },
  {
   "cell_type": "markdown",
   "id": "d3329373-0f49-4e30-865c-af8a22dcafc7",
   "metadata": {},
   "source": [
    "### 2. Calculate the Test Statistic:"
   ]
  },
  {
   "cell_type": "code",
   "execution_count": 16,
   "id": "beb4a454-889c-46f0-a5f4-2340f7b93725",
   "metadata": {},
   "outputs": [
    {
     "name": "stdout",
     "output_type": "stream",
     "text": [
      "-38.0\n"
     ]
    }
   ],
   "source": [
    "# Importing the libraries\n",
    "import numpy as np \n",
    "from scipy import stats\n",
    "'''ˉxˉ = sample mean weekly cost (Rs. 3,050)\n",
    "\tμ = theoretical mean weekly cost according to the cost model (W = $1,000 + $5X for X = 600 units)\n",
    "\tσ = 5*25 units\n",
    "\tn = sample size (25 restaurants) '''\n",
    "\n",
    "n=25\n",
    "x_bar=3050\n",
    "#mu=1000+5*600\n",
    "mu=4000\n",
    "# s=5*25 # there is affect on variance with the constant value 1000 so we do not use it.\n",
    "s=125\n",
    "t_cal=(x_bar-mu)/(s/np.sqrt(n)) \n",
    "print(t_cal)"
   ]
  },
  {
   "cell_type": "markdown",
   "id": "b9320f4e-35ef-4f19-ac82-bdf64c3cdeef",
   "metadata": {},
   "source": [
    " ### 3. Determine the Critical Value:"
   ]
  },
  {
   "cell_type": "code",
   "execution_count": 27,
   "id": "7b3f2156-53e1-40d8-9b26-c795c200d2ff",
   "metadata": {},
   "outputs": [
    {
     "data": {
      "text/plain": [
       "np.float64(1.7108820799094275)"
      ]
     },
     "execution_count": 27,
     "metadata": {},
     "output_type": "execute_result"
    }
   ],
   "source": [
    "#test:t-test where amaple size<30\n",
    "alpha=0.05 # Level of significancve 5%\n",
    "t_crit=stats.t.ppf((1-alpha),n-1) \n",
    "t_crit"
   ]
  },
  {
   "cell_type": "markdown",
   "id": "52e46910-4d38-4539-8cc3-d51e9f057850",
   "metadata": {},
   "source": [
    "### 4. Make a Decision:"
   ]
  },
  {
   "cell_type": "code",
   "execution_count": 25,
   "id": "c740a3cb-8356-4b3d-831e-f00c84c72c98",
   "metadata": {},
   "outputs": [
    {
     "name": "stdout",
     "output_type": "stream",
     "text": [
      "WE ACCEPT NULL HYPOTHESIS, REJECT THE ALTERNATIVE HYPOTHESIS\n",
      "mu=4000\n"
     ]
    }
   ],
   "source": [
    "if t_cal<=t_crit:\n",
    "    print(\"WE ACCEPT NULL HYPOTHESIS, REJECT THE ALTERNATIVE HYPOTHESIS\")\n",
    "    print(\"mu=4000\")\n",
    "else:\n",
    "    print(\"WE ACCEPT ALTERNATIVE HYPOTHESIS ,REJECT THE NULL HYPOTHESIS\")\n",
    "    print(\"mu>4000\")"
   ]
  },
  {
   "cell_type": "markdown",
   "id": "bf47c8dd-9b5a-46a1-bdf7-077e837d9ece",
   "metadata": {},
   "source": [
    "### 5. Conclusion:"
   ]
  },
  {
   "cell_type": "markdown",
   "id": "e63f0ad6-3148-44ed-908a-76aba03a8190",
   "metadata": {},
   "source": [
    "From the above , there is NO strong evidence to support the restaurant owners' claim that the weekly operating costs are higher than the model suggests.\n",
    "So,we conclude that the operating cost for franchise in a week(W) is W= $1,000 + $5X"
   ]
  },
  {
   "cell_type": "code",
   "execution_count": null,
   "id": "8c0bc9cc-9c49-45b7-b819-916308bd78db",
   "metadata": {},
   "outputs": [],
   "source": []
  }
 ],
 "metadata": {
  "kernelspec": {
   "display_name": "Python 3 (ipykernel)",
   "language": "python",
   "name": "python3"
  },
  "language_info": {
   "codemirror_mode": {
    "name": "ipython",
    "version": 3
   },
   "file_extension": ".py",
   "mimetype": "text/x-python",
   "name": "python",
   "nbconvert_exporter": "python",
   "pygments_lexer": "ipython3",
   "version": "3.13.2"
  }
 },
 "nbformat": 4,
 "nbformat_minor": 5
}
